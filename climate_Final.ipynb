{
 "cells": [
  {
   "cell_type": "code",
   "execution_count": 1,
   "metadata": {},
   "outputs": [],
   "source": [
    "%matplotlib inline\n",
    "from matplotlib import style\n",
    "style.use('fivethirtyeight')\n",
    "import matplotlib.pyplot as plt\n",
    "from pprint import pprint"
   ]
  },
  {
   "cell_type": "code",
   "execution_count": 2,
   "metadata": {},
   "outputs": [],
   "source": [
    "import numpy as np\n",
    "import pandas as pd"
   ]
  },
  {
   "cell_type": "code",
   "execution_count": 3,
   "metadata": {},
   "outputs": [],
   "source": [
    "import datetime as dt\n",
    "from dateutil.parser import parse"
   ]
  },
  {
   "cell_type": "markdown",
   "metadata": {},
   "source": [
    "# Reflect Tables into SQLAlchemy ORM"
   ]
  },
  {
   "cell_type": "code",
   "execution_count": 6,
   "metadata": {},
   "outputs": [],
   "source": [
    "# Python SQL toolkit and Object Relational Mapper\n",
    "import sqlalchemy\n",
    "from sqlalchemy.ext.automap import automap_base\n",
    "from sqlalchemy.orm import Session\n",
    "from sqlalchemy.orm import join\n",
    "from sqlalchemy import create_engine, func\n",
    "\n"
   ]
  },
  {
   "cell_type": "code",
   "execution_count": 7,
   "metadata": {},
   "outputs": [],
   "source": [
    "engine = create_engine(\"sqlite:///Resources/hawaii.sqlite\")"
   ]
  },
  {
   "cell_type": "code",
   "execution_count": 8,
   "metadata": {},
   "outputs": [],
   "source": [
    "# reflect an existing database into a new model\n",
    "Base = automap_base()\n",
    "# reflect the tables\n",
    "Base.prepare(engine, reflect=True)"
   ]
  },
  {
   "cell_type": "code",
   "execution_count": 9,
   "metadata": {},
   "outputs": [
    {
     "data": {
      "text/plain": [
       "['measurement', 'station']"
      ]
     },
     "execution_count": 9,
     "metadata": {},
     "output_type": "execute_result"
    }
   ],
   "source": [
    "# We can view all of the classes that automap found\n",
    "Base.classes.keys()"
   ]
  },
  {
   "cell_type": "code",
   "execution_count": 10,
   "metadata": {},
   "outputs": [],
   "source": [
    "# Save references to each table\n",
    "Measurement = Base.classes.measurement\n",
    "Station = Base.classes.station"
   ]
  },
  {
   "cell_type": "code",
   "execution_count": 11,
   "metadata": {},
   "outputs": [],
   "source": [
    "# Create our session (link) from Python to the DB\n",
    "session = Session(engine)"
   ]
  },
  {
   "cell_type": "markdown",
   "metadata": {},
   "source": [
    "# Exploratory Climate Analysis"
   ]
  },
  {
   "cell_type": "code",
   "execution_count": 12,
   "metadata": {},
   "outputs": [
    {
     "data": {
      "image/png": "[encoded data removed]",
      "text/plain": [
       "<Figure size 720x576 with 1 Axes>"
      ]
     },
     "metadata": {
      "needs_background": "light"
     },
     "output_type": "display_data"
    }
   ],
   "source": [
    "# Design a query to retrieve the last 12 months of precipitation data and plot the results\n",
    "\n",
    "strStartDate = session.query(Measurement.date).order_by(Measurement.date.desc()).first()  # find the latest date in dataset\n",
    "formattedDate = dt.datetime.strptime(strStartDate[0], '%Y-%m-%d')                         # String to DateTime format\n",
    "\n",
    "# Calculate the date 1 year ago from the last data point in the database\n",
    "\n",
    "Oneyearago = formattedDate - dt.timedelta(days=366)                                      # 366 for leap year\n",
    "\n",
    "# Perform a query to retrieve the data and precipitation scores\n",
    "\n",
    "results = session.query(Measurement.date,Measurement.prcp).\\\n",
    "                       filter(Measurement.date >= Oneyearago).\\\n",
    "                       order_by(Measurement.date.desc()).all()                         # Sorted the data set to \n",
    "                                                                                       #descending in the query\n",
    "\n",
    "# Save the query results as a Pandas DataFrame and set the index to the date column\n",
    "\n",
    "OneyearPrcpData = pd.DataFrame(results, columns=['Date', 'Percipitation'])\n",
    "OneyearPrcpData.set_index(\"Date\")\n",
    "\n",
    "# Use Pandas Plotting with Matplotlib to plot the data\n",
    "\n",
    "fig ,ax = plt.subplots(figsize=(10, 8))\n",
    "ax.bar(OneyearPrcpData[\"Date\"], OneyearPrcpData[\"Percipitation\"], width=3, alpha=0.75)\n",
    "ax.legend([\"Percipitation\"], loc=\"upper center\")\n",
    "ax.set_xlabel(\"Date\")\n",
    "ax.set_xticks([])                                                                      # removing the dates in the x-axis\n",
    "ax.set_title(\"Exploratory Climate Analysis\")\n",
    "fig.tight_layout()\n",
    "\n",
    "# Save the fig\n",
    "\n",
    "fig.savefig(\"Images\\Exploratory Climate Analysis.png\")\n",
    "plt.show()"
   ]
  },
  {
   "cell_type": "code",
   "execution_count": 13,
   "metadata": {},
   "outputs": [
    {
     "data": {
      "text/html": [
       "<div>\n",
       "<style scoped>\n",
       "    .dataframe tbody tr th:only-of-type {\n",
       "        vertical-align: middle;\n",
       "    }\n",
       "\n",
       "    .dataframe tbody tr th {\n",
       "        vertical-align: top;\n",
       "    }\n",
       "\n",
       "    .dataframe thead th {\n",
       "        text-align: right;\n",
       "    }\n",
       "</style>\n",
       "<table border=\"1\" class=\"dataframe\">\n",
       "  <thead>\n",
       "    <tr style=\"text-align: right;\">\n",
       "      <th></th>\n",
       "      <th>Percipitation</th>\n",
       "    </tr>\n",
       "  </thead>\n",
       "  <tbody>\n",
       "    <tr>\n",
       "      <th>count</th>\n",
       "      <td>2021.000000</td>\n",
       "    </tr>\n",
       "    <tr>\n",
       "      <th>mean</th>\n",
       "      <td>0.177279</td>\n",
       "    </tr>\n",
       "    <tr>\n",
       "      <th>std</th>\n",
       "      <td>0.461190</td>\n",
       "    </tr>\n",
       "    <tr>\n",
       "      <th>min</th>\n",
       "      <td>0.000000</td>\n",
       "    </tr>\n",
       "    <tr>\n",
       "      <th>25%</th>\n",
       "      <td>0.000000</td>\n",
       "    </tr>\n",
       "    <tr>\n",
       "      <th>50%</th>\n",
       "      <td>0.020000</td>\n",
       "    </tr>\n",
       "    <tr>\n",
       "      <th>75%</th>\n",
       "      <td>0.130000</td>\n",
       "    </tr>\n",
       "    <tr>\n",
       "      <th>max</th>\n",
       "      <td>6.700000</td>\n",
       "    </tr>\n",
       "  </tbody>\n",
       "</table>\n",
       "</div>"
      ],
      "text/plain": [
       "       Percipitation\n",
       "count    2021.000000\n",
       "mean        0.177279\n",
       "std         0.461190\n",
       "min         0.000000\n",
       "25%         0.000000\n",
       "50%         0.020000\n",
       "75%         0.130000\n",
       "max         6.700000"
      ]
     },
     "execution_count": 13,
     "metadata": {},
     "output_type": "execute_result"
    }
   ],
   "source": [
    "# Use Pandas to calcualte the summary statistics for the precipitation data\n",
    "\n",
    "StatDF = pd.DataFrame(OneyearPrcpData[\"Percipitation\"])\n",
    "\n",
    "StatDF.describe()"
   ]
  },
  {
   "cell_type": "markdown",
   "metadata": {},
   "source": [
    "# Station Analysis"
   ]
  },
  {
   "cell_type": "code",
   "execution_count": 16,
   "metadata": {},
   "outputs": [
    {
     "name": "stdout",
     "output_type": "stream",
     "text": [
      "Number of stations available is : 9\n"
     ]
    }
   ],
   "source": [
    "# Design a query to show how many stations are available in this dataset?\n",
    "\n",
    "Stationscount = session.query(Station.id).count()  \n",
    "print(f\"Number of stations available is : {Stationscount}\") "
   ]
  },
  {
   "cell_type": "code",
   "execution_count": 17,
   "metadata": {},
   "outputs": [
    {
     "data": {
      "text/plain": [
       "[('USC00519281', 2772),\n",
       " ('USC00519397', 2724),\n",
       " ('USC00513117', 2709),\n",
       " ('USC00519523', 2669),\n",
       " ('USC00516128', 2612),\n",
       " ('USC00514830', 2202),\n",
       " ('USC00511918', 1979),\n",
       " ('USC00517948', 1372),\n",
       " ('USC00518838', 511)]"
      ]
     },
     "execution_count": 17,
     "metadata": {},
     "output_type": "execute_result"
    }
   ],
   "source": [
    "# What are the most active stations? (i.e. what stations have the most rows)?\n",
    "# List the stations and the counts in descending order.\n",
    "\n",
    "ActiveStationquery = session.query(Measurement.station, func.count(Measurement.station)).\\\n",
    "                                  group_by(Measurement.station).\\\n",
    "                                  order_by(func.count(Measurement.station).desc())\n",
    "                                  \n",
    "\n",
    "ActiveStationquery.all()"
   ]
  },
  {
   "cell_type": "code",
   "execution_count": 18,
   "metadata": {},
   "outputs": [
    {
     "data": {
      "text/plain": [
       "[(54.0, 85.0, 71.66378066378067)]"
      ]
     },
     "execution_count": 18,
     "metadata": {},
     "output_type": "execute_result"
    }
   ],
   "source": [
    "# Using the station id from the previous query, calculate the lowest temperature recorded, \n",
    "# highest temperature recorded, and average temperature most active station?\n",
    "\n",
    "MostActiveStation = ActiveStationquery.first()\n",
    "\n",
    "sel = [func.min(Measurement.tobs), func.max(Measurement.tobs), func.avg(Measurement.tobs)]\n",
    "\n",
    "session.query(*sel).filter(Measurement.station == MostActiveStation[0]).all()"
   ]
  },
  {
   "cell_type": "code",
   "execution_count": 19,
   "metadata": {},
   "outputs": [],
   "source": [
    "# Choose the station with the highest number of temperature observations.\n",
    "# Query the last 12 months of temperature observation data for this station and plot the results as a histogram\n",
    "\n",
    "tobsresults = session.query(Measurement.tobs).\\\n",
    "                       filter(Measurement.date >= Oneyearago).\\\n",
    "                       filter(Measurement.station == MostActiveStation[0]).all()\n",
    "\n",
    "frequency = np.ravel(tobsresults)"
   ]
  },
  {
   "cell_type": "code",
   "execution_count": 20,
   "metadata": {},
   "outputs": [
    {
     "data": {
      "image/png": "[encoded data removed]",
      "text/plain": [
       "<Figure size 576x360 with 1 Axes>"
      ]
     },
     "metadata": {
      "needs_background": "light"
     },
     "output_type": "display_data"
    }
   ],
   "source": [
    "#plot the results as a histogram\n",
    "num_bins = 12   \n",
    "\n",
    "fig ,ax = plt.subplots(figsize=(8, 5))\n",
    "ax.hist(frequency, bins=num_bins, alpha=0.75 , stacked=True)\n",
    "ax.legend([\"tobs\"], loc=\"best\")\n",
    "ax.set_ylabel(\"Frequency\")\n",
    "fig.tight_layout()\n",
    "\n",
    "# Save the fig\n",
    "\n",
    "fig.savefig(\"Images\\Temperature Observation Frequency Histogram.png\")\n",
    "plt.show()"
   ]
  },
  {
   "cell_type": "code",
   "execution_count": 21,
   "metadata": {},
   "outputs": [
    {
     "name": "stdout",
     "output_type": "stream",
     "text": [
      "[(62.0, 69.57142857142857, 74.0)]\n"
     ]
    }
   ],
   "source": [
    "# This function called `calc_temps` will accept start date and end date in the format '%Y-%m-%d' \n",
    "# and return the minimum, average, and maximum temperatures for that range of dates\n",
    "def calc_temps(start_date, end_date):\n",
    "    \"\"\"TMIN, TAVG, and TMAX for a list of dates.\n",
    "    \n",
    "    Args:\n",
    "        start_date (string): A date string in the format %Y-%m-%d\n",
    "        end_date (string): A date string in the format %Y-%m-%d\n",
    "        \n",
    "    Returns:\n",
    "        TMIN, TAVE, and TMAX\n",
    "    \"\"\"\n",
    "    \n",
    "    return session.query(func.min(Measurement.tobs), func.avg(Measurement.tobs), func.max(Measurement.tobs)).\\\n",
    "        filter(Measurement.date >= start_date).filter(Measurement.date <= end_date).all()\n",
    "\n",
    "# function usage example\n",
    "print(calc_temps('2012-02-28', '2012-03-05'))"
   ]
  },
  {
   "cell_type": "code",
   "execution_count": 22,
   "metadata": {},
   "outputs": [],
   "source": [
    "# Use your previous function `calc_temps` to calculate the tmin, tavg, and tmax \n",
    "# for your trip using the previous year's data for those same dates.\n",
    "\n",
    "MyStart= '2018-05-09'\n",
    "MyEndDate= '2018-05-22'\n",
    "\n",
    "TripStartDate = dt.datetime.strptime(MyStart, '%Y-%m-%d')\n",
    "TripEndDate = dt.datetime.strptime(MyEndDate, '%Y-%m-%d')\n",
    "\n",
    "PreviousyearStartDate = TripStartDate.replace(TripStartDate.year - 1)\n",
    "PreviousyearEndDate = TripEndDate.replace(TripEndDate.year - 1)\n"
   ]
  },
  {
   "cell_type": "code",
   "execution_count": 23,
   "metadata": {},
   "outputs": [],
   "source": [
    "TempResult = calc_temps(PreviousyearStartDate, PreviousyearEndDate)\n",
    "PrevYearTemps = list(np.ravel(*TempResult))\n",
    "TMIN = PrevYearTemps[0]\n",
    "TAVG = PrevYearTemps[1]\n",
    "TMAX = PrevYearTemps[2]"
   ]
  },
  {
   "cell_type": "code",
   "execution_count": 24,
   "metadata": {},
   "outputs": [],
   "source": [
    "x = 0\n",
    "# Use the average temperature for the y value\n",
    "y =TAVG\n",
    "# Use the peak-to-peak (tmax-tmin) value as the y error bar (yerr)\n",
    "yerr = TMAX-TMIN\n"
   ]
  },
  {
   "cell_type": "code",
   "execution_count": 25,
   "metadata": {},
   "outputs": [
    {
     "data": {
      "image/png": "[encoded data removed]",
      "text/plain": [
       "<Figure size 216x432 with 1 Axes>"
      ]
     },
     "metadata": {
      "needs_background": "light"
     },
     "output_type": "display_data"
    }
   ],
   "source": [
    "# Plot the results from your previous query as a bar chart. \n",
    "fig ,ax = plt.subplots(figsize=(3, 6))\n",
    "\n",
    "ax.bar(x,y,alpha=0.75,color=\"#FF6550\")\n",
    "ax.errorbar(x,y,yerr,alpha=0.75 ,color=\"#FF6550\",capsize=1,ecolor=\"black\")\n",
    "\n",
    "# Use \"Trip Avg Temp\" as your Title\n",
    "ax.set_ylabel(\"Temp(F)\")\n",
    "ax.set_xticks([])\n",
    "ax.set_ylim(-5,100)\n",
    "ax.set_title(\"Trip Avg Temp\")\n",
    "fig.tight_layout()\n",
    "\n",
    "# Save the fig\n",
    "\n",
    "fig.savefig(\"Images\\Trip Avg Temp.png\")\n",
    "plt.show()\n"
   ]
  },
  {
   "cell_type": "code",
   "execution_count": 26,
   "metadata": {},
   "outputs": [
    {
     "name": "stdout",
     "output_type": "stream",
     "text": [
      "[('USC00519397',\n",
      "  'WAIKIKI 717.2, HI US',\n",
      "  21.2716,\n",
      "  -157.8168,\n",
      "  3.0,\n",
      "  31.050000000000008),\n",
      " ('USC00519397',\n",
      "  'WAIKIKI 717.2, HI US',\n",
      "  21.2716,\n",
      "  -157.8168,\n",
      "  3.0,\n",
      "  9.450000000000005),\n",
      " ('USC00519397',\n",
      "  'WAIKIKI 717.2, HI US',\n",
      "  21.2716,\n",
      "  -157.8168,\n",
      "  3.0,\n",
      "  5.220000000000001),\n",
      " ('USC00519397',\n",
      "  'WAIKIKI 717.2, HI US',\n",
      "  21.2716,\n",
      "  -157.8168,\n",
      "  3.0,\n",
      "  3.8699999999999988),\n",
      " ('USC00519397',\n",
      "  'WAIKIKI 717.2, HI US',\n",
      "  21.2716,\n",
      "  -157.8168,\n",
      "  3.0,\n",
      "  2.0699999999999985),\n",
      " ('USC00519397',\n",
      "  'WAIKIKI 717.2, HI US',\n",
      "  21.2716,\n",
      "  -157.8168,\n",
      "  3.0,\n",
      "  0.7200000000000001)]\n"
     ]
    }
   ],
   "source": [
    "# Calculate the total amount of rainfall per weather station for your trip dates using the previous year's matching dates.\n",
    "# Sort this in descending order by precipitation amount\n",
    "# and list the station, name, latitude, longitude, and elevation\n",
    "\n",
    "TotalRainfallResults = session.query(Station.station, Station.name, Station.latitude, \n",
    "                                     Station.longitude, Station.elevation, func.sum(Measurement.prcp)).\\\n",
    "                                     filter(Measurement.date>=PreviousyearStartDate).\\\n",
    "                                     filter(Measurement.date<=PreviousyearEndDate).\\\n",
    "                                     group_by(Measurement.station).\\\n",
    "                                     order_by(Measurement.prcp.desc()).all()\n",
    "\n",
    "pprint(TotalRainfallResults)"
   ]
  },
  {
   "cell_type": "markdown",
   "metadata": {},
   "source": [
    "## Optional Challenge Assignment"
   ]
  },
  {
   "cell_type": "code",
   "execution_count": 27,
   "metadata": {},
   "outputs": [
    {
     "data": {
      "text/plain": [
       "[(58.0, 70.36206896551724, 80.0)]"
      ]
     },
     "execution_count": 27,
     "metadata": {},
     "output_type": "execute_result"
    }
   ],
   "source": [
    "# Create a query that will calculate the daily normals \n",
    "# (i.e. the averages for tmin, tmax, and tavg for all historic data matching a specific month and day)\n",
    "\n",
    "def daily_normals(date):\n",
    "    \"\"\"Daily Normals.\n",
    "    \n",
    "    Args:\n",
    "        date (str): A date string in the format '%m-%d'\n",
    "        \n",
    "    Returns:\n",
    "        A list of tuples containing the daily normals, tmin, tavg, and tmax\n",
    "    \n",
    "    \"\"\"\n",
    "    \n",
    "    sel = [func.min(Measurement.tobs), func.avg(Measurement.tobs), func.max(Measurement.tobs)]\n",
    "    return session.query(*sel).filter(func.strftime(\"%m-%d\", Measurement.date) == date).all()\n",
    "    \n",
    "daily_normals(\"02-13\")\n"
   ]
  },
  {
   "cell_type": "code",
   "execution_count": 40,
   "metadata": {},
   "outputs": [
    {
     "name": "stdout",
     "output_type": "stream",
     "text": [
      "[('2017-05-10', 64.0, 73.3157894736842, 78.0),\n",
      " ('2017-05-11', 65.0, 73.61111111111111, 79.0),\n",
      " ('2017-05-12', 65.0, 73.13793103448276, 79.0),\n",
      " ('2017-05-09', 67.0, 72.9322033898305, 79.0),\n",
      " ('2017-05-10', 64.0, 73.3157894736842, 78.0),\n",
      " ('2017-05-11', 65.0, 73.61111111111111, 79.0),\n",
      " ('2017-05-12', 65.0, 73.13793103448276, 79.0),\n",
      " ('2017-05-09', 67.0, 72.9322033898305, 79.0),\n",
      " ('2017-05-10', 64.0, 73.3157894736842, 78.0),\n",
      " ('2017-05-12', 65.0, 73.13793103448276, 79.0),\n",
      " ('2017-05-09', 67.0, 72.9322033898305, 79.0),\n",
      " ('2017-05-10', 64.0, 73.3157894736842, 78.0),\n",
      " ('2017-05-11', 65.0, 73.61111111111111, 79.0),\n",
      " ('2017-05-12', 65.0, 73.13793103448276, 79.0),\n",
      " ('2017-05-09', 67.0, 72.9322033898305, 79.0),\n",
      " ('2017-05-10', 64.0, 73.3157894736842, 78.0),\n",
      " ('2017-05-11', 65.0, 73.61111111111111, 79.0),\n",
      " ('2017-05-12', 65.0, 73.13793103448276, 79.0),\n",
      " ('2017-05-09', 67.0, 72.9322033898305, 79.0),\n",
      " ('2017-05-10', 64.0, 73.3157894736842, 78.0),\n",
      " ('2017-05-11', 65.0, 73.61111111111111, 79.0),\n",
      " ('2017-05-12', 65.0, 73.13793103448276, 79.0)]\n"
     ]
    }
   ],
   "source": [
    "# calculate the daily normals for your trip\n",
    "# push each tuple of calculations into a list called `normals`\n",
    "# Set the start and end date of the trip\n",
    "\n",
    "MyStartDate= '2017-05-09'\n",
    "MyEndDate= '2017-05-12'\n",
    "\n",
    "# Use the start and end date to create a range of dates\n",
    "\n",
    "results = session.query(Measurement.date).\\\n",
    "                        filter(Measurement.date>=MyStartDate).\\\n",
    "                        filter(Measurement.date <=MyEndDate).all()\n",
    "\n",
    "DateRangeList = list(np.ravel(results))\n",
    "\n",
    "# Strip off the year and save a list of %m-%d strings\n",
    "\n",
    "FormattedDateRange =[]\n",
    "normals =[]\n",
    "\n",
    "# Loop through the list of %m-%d strings and calculate the normals for each date   \n",
    "\n",
    "for datestr in DateRangeList:\n",
    "    eachdate = dt.datetime.strptime(datestr, '%Y-%m-%d')\n",
    "    month = eachdate.strftime(\"%m\")\n",
    "    day = eachdate.strftime(\"%d\")\n",
    "    \n",
    "    fdr = f\"{month}-{day}\"\n",
    "    \n",
    "    dailynormals = list(np.ravel(daily_normals(fdr)))       # unpack(np.ravel) each daily_normal result to a list\n",
    "    dailynormals.insert(0,datestr)                          # Insert the DateString for which the Daily Normal was found\n",
    "    dn = tuple(dailynormals)\n",
    "    normals.append(dn)\n",
    "    \n",
    "\n",
    "pprint(normals)\n",
    "\n"
   ]
  },
  {
   "cell_type": "code",
   "execution_count": 41,
   "metadata": {},
   "outputs": [
    {
     "data": {
      "text/html": [
       "<div>\n",
       "<style scoped>\n",
       "    .dataframe tbody tr th:only-of-type {\n",
       "        vertical-align: middle;\n",
       "    }\n",
       "\n",
       "    .dataframe tbody tr th {\n",
       "        vertical-align: top;\n",
       "    }\n",
       "\n",
       "    .dataframe thead th {\n",
       "        text-align: right;\n",
       "    }\n",
       "</style>\n",
       "<table border=\"1\" class=\"dataframe\">\n",
       "  <thead>\n",
       "    <tr style=\"text-align: right;\">\n",
       "      <th></th>\n",
       "      <th>MIN tobs</th>\n",
       "      <th>AVG tobs</th>\n",
       "      <th>MAX tobs</th>\n",
       "    </tr>\n",
       "    <tr>\n",
       "      <th>Date</th>\n",
       "      <th></th>\n",
       "      <th></th>\n",
       "      <th></th>\n",
       "    </tr>\n",
       "  </thead>\n",
       "  <tbody>\n",
       "    <tr>\n",
       "      <th>2017-05-10</th>\n",
       "      <td>64.0</td>\n",
       "      <td>73.315789</td>\n",
       "      <td>78.0</td>\n",
       "    </tr>\n",
       "    <tr>\n",
       "      <th>2017-05-11</th>\n",
       "      <td>65.0</td>\n",
       "      <td>73.611111</td>\n",
       "      <td>79.0</td>\n",
       "    </tr>\n",
       "    <tr>\n",
       "      <th>2017-05-12</th>\n",
       "      <td>65.0</td>\n",
       "      <td>73.137931</td>\n",
       "      <td>79.0</td>\n",
       "    </tr>\n",
       "    <tr>\n",
       "      <th>2017-05-09</th>\n",
       "      <td>67.0</td>\n",
       "      <td>72.932203</td>\n",
       "      <td>79.0</td>\n",
       "    </tr>\n",
       "    <tr>\n",
       "      <th>2017-05-10</th>\n",
       "      <td>64.0</td>\n",
       "      <td>73.315789</td>\n",
       "      <td>78.0</td>\n",
       "    </tr>\n",
       "  </tbody>\n",
       "</table>\n",
       "</div>"
      ],
      "text/plain": [
       "            MIN tobs   AVG tobs  MAX tobs\n",
       "Date                                     \n",
       "2017-05-10      64.0  73.315789      78.0\n",
       "2017-05-11      65.0  73.611111      79.0\n",
       "2017-05-12      65.0  73.137931      79.0\n",
       "2017-05-09      67.0  72.932203      79.0\n",
       "2017-05-10      64.0  73.315789      78.0"
      ]
     },
     "execution_count": 41,
     "metadata": {},
     "output_type": "execute_result"
    }
   ],
   "source": [
    "# Load the previous query results into a Pandas DataFrame and add the `trip_dates` range as the `date` index\n",
    "\n",
    "TripDatesDF = pd.DataFrame(normals, \n",
    "                           columns=[\"Date\", \"MIN tobs\", \"AVG tobs\", \"MAX tobs\"])\n",
    "\n",
    "IndexedTripDatesDF = TripDatesDF.set_index(\"Date\")\n",
    "\n",
    "IndexedTripDatesDF.head()"
   ]
  },
  {
   "cell_type": "code",
   "execution_count": 42,
   "metadata": {},
   "outputs": [
    {
     "data": {
      "text/plain": [
       "['2017-05-10',\n",
       " '2017-05-11',\n",
       " '2017-05-12',\n",
       " '2017-05-09',\n",
       " '2017-05-10',\n",
       " '2017-05-11',\n",
       " '2017-05-12',\n",
       " '2017-05-09',\n",
       " '2017-05-10',\n",
       " '2017-05-12',\n",
       " '2017-05-09',\n",
       " '2017-05-10',\n",
       " '2017-05-11',\n",
       " '2017-05-12',\n",
       " '2017-05-09',\n",
       " '2017-05-10',\n",
       " '2017-05-11',\n",
       " '2017-05-12',\n",
       " '2017-05-09',\n",
       " '2017-05-10',\n",
       " '2017-05-11',\n",
       " '2017-05-12']"
      ]
     },
     "execution_count": 42,
     "metadata": {},
     "output_type": "execute_result"
    }
   ],
   "source": [
    "DatesList = [ i for i in IndexedTripDatesDF.index]\n",
    "\n",
    "DatesList"
   ]
  },
  {
   "cell_type": "code",
   "execution_count": 83,
   "metadata": {},
   "outputs": [
    {
     "data": {
      "text/plain": [
       "<Figure size 36000x216 with 0 Axes>"
      ]
     },
     "metadata": {},
     "output_type": "display_data"
    },
    {
     "data": {
      "image/png": "[encoded data removed]",
      "text/plain": [
       "<Figure size 432x288 with 1 Axes>"
      ]
     },
     "metadata": {
      "needs_background": "light"
     },
     "output_type": "display_data"
    }
   ],
   "source": [
    "# Plot the daily normals as an area plot with `stacked=False`\n",
    "fig = plt.figure(figsize=(500,3))\n",
    "\n",
    "ax = IndexedTripDatesDF.plot(kind=\"area\", stacked=False , use_index =True)\n",
    "plt.title (\"Daily Normals\")\n",
    "plt.xlabels = DatesList\n",
    "\n",
    "plt.savefig(\"Images\\DailyNormals.png\")\n",
    "plt.show()"
   ]
  }
 ],
 "metadata": {
  "kernel_info": {
   "name": "python3"
  },
  "kernelspec": {
   "display_name": "Python 3",
   "language": "python",
   "name": "python3"
  },
  "language_info": {
   "codemirror_mode": {
    "name": "ipython",
    "version": 3
   },
   "file_extension": ".py",
   "mimetype": "text/x-python",
   "name": "python",
   "nbconvert_exporter": "python",
   "pygments_lexer": "ipython3",
   "version": "3.7.1"
  },
  "nteract": {
   "version": "0.12.3"
  },
  "varInspector": {
   "cols": {
    "lenName": 16,
    "lenType": 16,
    "lenVar": 40
   },
   "kernels_config": {
    "python": {
     "delete_cmd_postfix": "",
     "delete_cmd_prefix": "del ",
     "library": "var_list.py",
     "varRefreshCmd": "print(var_dic_list())"
    },
    "r": {
     "delete_cmd_postfix": ") ",
     "delete_cmd_prefix": "rm(",
     "library": "var_list.r",
     "varRefreshCmd": "cat(var_dic_list()) "
    }
   },
   "types_to_exclude": [
    "module",
    "function",
    "builtin_function_or_method",
    "instance",
    "_Feature"
   ],
   "window_display": false
  }
 },
 "nbformat": 4,
 "nbformat_minor": 2
}
